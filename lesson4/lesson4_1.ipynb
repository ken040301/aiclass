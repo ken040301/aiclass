{
 "cells": [
  {
   "cell_type": "code",
   "execution_count": null,
   "id": "7ac02a56",
   "metadata": {},
   "outputs": [
    {
     "name": "stdout",
     "output_type": "stream",
     "text": [
      "你低於18歲\n"
     ]
    }
   ],
   "source": [
    "age=int(input('請輸入年齡:'))\n",
    "if age==18:\n",
    "    print('你18歲')\n",
    "elif age>=18:\n",
    "    print('你高於18歲')\n",
    "else :\n",
    "    print('你低於18歲')\n"
   ]
  },
  {
   "cell_type": "code",
   "execution_count": null,
   "id": "0c90a930",
   "metadata": {},
   "outputs": [
    {
     "name": "stdout",
     "output_type": "stream",
     "text": [
      "⚠️ 輸入錯誤，請輸入數字！\n",
      "21\n"
     ]
    }
   ],
   "source": [
    "\n",
    "while True:\n",
    "    try:\n",
    "        s=int(input('請輸入成績最高300分'))\n",
    "        break  # 轉成功才跳出\n",
    "    except ValueError:\n",
    "        print(\"⚠️ 輸入錯誤，請輸入數字！\")\n",
    "a=input('請輸入是否要調分(y,n)')\n",
    "if  a=='y':\n",
    "    s*=1.05\n",
    "    if s>300:\n",
    "        s=300\n",
    "print(round(s))"
   ]
  }
 ],
 "metadata": {
  "kernelspec": {
   "display_name": "base",
   "language": "python",
   "name": "python3"
  },
  "language_info": {
   "codemirror_mode": {
    "name": "ipython",
    "version": 3
   },
   "file_extension": ".py",
   "mimetype": "text/x-python",
   "name": "python",
   "nbconvert_exporter": "python",
   "pygments_lexer": "ipython3",
   "version": "3.13.2"
  }
 },
 "nbformat": 4,
 "nbformat_minor": 5
}
