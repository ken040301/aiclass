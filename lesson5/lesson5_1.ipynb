{
 "cells": [
  {
   "cell_type": "code",
   "execution_count": 8,
   "id": "35352706",
   "metadata": {},
   "outputs": [
    {
     "name": "stdout",
     "output_type": "stream",
     "text": [
      "獎金為500\n"
     ]
    }
   ],
   "source": [
    "c=int(input('輸入國文成績'))\n",
    "m=int(input('輸入數學成績'))\n",
    "b=0\n",
    "if c==100:\n",
    "    if m==100:\n",
    "        b=1000\n",
    "    else:\n",
    "        b=500\n",
    "else: \n",
    "    if m==100:\n",
    "        b=500\n",
    "    else:\n",
    "        b=0\n",
    "print(f\"獎金為{b}\")\n"
   ]
  },
  {
   "cell_type": "code",
   "execution_count": null,
   "id": "e20d52cc",
   "metadata": {},
   "outputs": [
    {
     "name": "stdout",
     "output_type": "stream",
     "text": [
      "獎金為0\n"
     ]
    }
   ],
   "source": [
    "c=int(input('輸入國文成績'))\n",
    "m=int(input('輸入數學成績'))\n",
    "b=0\n",
    "if c==100 and m==100:\n",
    "    b=1000\n",
    "elif c==100 or m==100:\n",
    "    b=500\n",
    "print(f\"獎金為{b}\")"
   ]
  },
  {
   "cell_type": "code",
   "execution_count": 22,
   "id": "cd9662f1",
   "metadata": {},
   "outputs": [
    {
     "name": "stdout",
     "output_type": "stream",
     "text": [
      "22\n"
     ]
    }
   ],
   "source": [
    "x=0\n",
    "for i in range(1,11,3) :\n",
    "    x=x+i\n",
    "print(x)"
   ]
  },
  {
   "cell_type": "code",
   "execution_count": 34,
   "id": "f0001cf5",
   "metadata": {},
   "outputs": [
    {
     "name": "stdout",
     "output_type": "stream",
     "text": [
      "i=0\n",
      "j=1 j=2 j=3 j=4 j=5 j=6 j=7 j=8 j=9 j=10 \n",
      "==================================================\n",
      "i=1\n",
      "j=11 j=12 j=13 j=14 j=15 j=16 j=17 j=18 j=19 j=20 \n",
      "==================================================\n",
      "i=2\n",
      "j=21 j=22 j=23 j=24 j=25 j=26 j=27 j=28 j=29 j=30 \n",
      "==================================================\n",
      "i=3\n",
      "j=31 j=32 j=33 j=34 j=35 j=36 j=37 j=38 j=39 j=40 \n",
      "==================================================\n",
      "i=4\n",
      "j=41 j=42 j=43 j=44 j=45 j=46 j=47 j=48 j=49 j=50 \n",
      "==================================================\n"
     ]
    }
   ],
   "source": [
    "for i in range(1,6) :\n",
    "    print(f\"i={i-1}\")\n",
    "    for j in range(1,11) :\n",
    "        print(f\"j={j+(i-1)*10}\",end=\" \")\n",
    "    print('')\n",
    "    print('='*50)\n",
    "\n",
    "    "
   ]
  },
  {
   "cell_type": "code",
   "execution_count": 43,
   "id": "e141f294",
   "metadata": {},
   "outputs": [
    {
     "name": "stdout",
     "output_type": "stream",
     "text": [
      "1*1=1 \t1*2=2 \t1*3=3 \t1*4=4 \t1*5=5 \t1*6=6 \t1*7=7 \t1*8=8 \t1*9=9 \t\n",
      "2*1=2 \t2*2=4 \t2*3=6 \t2*4=8 \t2*5=10 \t2*6=12 \t2*7=14 \t2*8=16 \t2*9=18 \t\n",
      "3*1=3 \t3*2=6 \t3*3=9 \t3*4=12 \t3*5=15 \t3*6=18 \t3*7=21 \t3*8=24 \t3*9=27 \t\n",
      "4*1=4 \t4*2=8 \t4*3=12 \t4*4=16 \t4*5=20 \t4*6=24 \t4*7=28 \t4*8=32 \t4*9=36 \t\n",
      "5*1=5 \t5*2=10 \t5*3=15 \t5*4=20 \t5*5=25 \t5*6=30 \t5*7=35 \t5*8=40 \t5*9=45 \t\n",
      "6*1=6 \t6*2=12 \t6*3=18 \t6*4=24 \t6*5=30 \t6*6=36 \t6*7=42 \t6*8=48 \t6*9=54 \t\n",
      "7*1=7 \t7*2=14 \t7*3=21 \t7*4=28 \t7*5=35 \t7*6=42 \t7*7=49 \t7*8=56 \t7*9=63 \t\n",
      "8*1=8 \t8*2=16 \t8*3=24 \t8*4=32 \t8*5=40 \t8*6=48 \t8*7=56 \t8*8=64 \t8*9=72 \t\n",
      "9*1=9 \t9*2=18 \t9*3=27 \t9*4=36 \t9*5=45 \t9*6=54 \t9*7=63 \t9*8=72 \t9*9=81 \t\n"
     ]
    }
   ],
   "source": [
    "for i in range(1,10) :\n",
    "    for j in range(1,10) :\n",
    "        print(f\"{i}*{j}={j*i} \",end=\"\\t\")\n",
    "    print()"
   ]
  },
  {
   "cell_type": "code",
   "execution_count": 46,
   "id": "4e310cbf",
   "metadata": {},
   "outputs": [
    {
     "name": "stdout",
     "output_type": "stream",
     "text": [
      "102\n"
     ]
    }
   ],
   "source": [
    "x=0\n",
    "while x<100:\n",
    "    y=int(input('請輸入要加的值'))\n",
    "    x+=y\n",
    "print(x)"
   ]
  }
 ],
 "metadata": {
  "kernelspec": {
   "display_name": "base",
   "language": "python",
   "name": "python3"
  },
  "language_info": {
   "codemirror_mode": {
    "name": "ipython",
    "version": 3
   },
   "file_extension": ".py",
   "mimetype": "text/x-python",
   "name": "python",
   "nbconvert_exporter": "python",
   "pygments_lexer": "ipython3",
   "version": "3.13.2"
  }
 },
 "nbformat": 4,
 "nbformat_minor": 5
}
