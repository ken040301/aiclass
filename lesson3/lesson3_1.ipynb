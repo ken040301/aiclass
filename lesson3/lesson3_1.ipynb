{
 "cells": [
  {
   "cell_type": "code",
   "execution_count": 1,
   "id": "c595bfad",
   "metadata": {},
   "outputs": [
    {
     "name": "stdout",
     "output_type": "stream",
     "text": [
      "hello\n"
     ]
    }
   ],
   "source": [
    "print('hello')"
   ]
  },
  {
   "cell_type": "code",
   "execution_count": 4,
   "id": "1a546e98",
   "metadata": {},
   "outputs": [
    {
     "name": "stdout",
     "output_type": "stream",
     "text": [
      "鄰邊是 3.0 對邊是 4.0 斜邊是 5.0\n"
     ]
    }
   ],
   "source": [
    "import math\n",
    "side=float(input('輸入鄰邊'))\n",
    "a_side=float(input('輸入對邊'))\n",
    "ans=math.sqrt(side**2+a_side**2)\n",
    "print('鄰邊是',side,'對邊是',a_side,'斜邊是',ans)"
   ]
  },
  {
   "cell_type": "code",
   "execution_count": 5,
   "id": "8dfaa3e5",
   "metadata": {},
   "outputs": [
    {
     "name": "stdout",
     "output_type": "stream",
     "text": [
      "10\n"
     ]
    }
   ],
   "source": [
    "n=5\n",
    "n+=5\n",
    "print(n)"
   ]
  },
  {
   "cell_type": "code",
   "execution_count": 7,
   "id": "04c32886",
   "metadata": {},
   "outputs": [
    {
     "name": "stdout",
     "output_type": "stream",
     "text": [
      "姓名:\tken\n",
      "性別:\t男\n"
     ]
    }
   ],
   "source": [
    "print('姓名:\\tken\\n性別:\\t男')"
   ]
  },
  {
   "cell_type": "code",
   "execution_count": null,
   "id": "a2cc038f",
   "metadata": {},
   "outputs": [],
   "source": [
    "import math \n",
    "side=int(input('輸入對邊'))\n",
    "a_side=int(input('輸入鄰邊'))\n",
    "ans=math.sqrt(side**2+a_side**2)\n",
    "print(side,a_side,ans)\n",
    "\n"
   ]
  },
  {
   "cell_type": "code",
   "execution_count": 8,
   "id": "36000e9d",
   "metadata": {},
   "outputs": [
    {
     "name": "stdout",
     "output_type": "stream",
     "text": [
      "姓名:\tken\n",
      "性別:\t男\n"
     ]
    }
   ],
   "source": [
    "info='''姓名:\tken\n",
    "性別:\t男'''\n",
    "print(info)"
   ]
  },
  {
   "cell_type": "code",
   "execution_count": 9,
   "id": "8335f630",
   "metadata": {},
   "outputs": [
    {
     "name": "stdout",
     "output_type": "stream",
     "text": [
      "我有1個蘋果,2個香蕉,共3個水果\n"
     ]
    }
   ],
   "source": [
    "a=1\n",
    "b=2\n",
    "c=3\n",
    "result=f'我有{a}個蘋果,{b}個香蕉,共{c}個水果'\n",
    "print(result)"
   ]
  },
  {
   "cell_type": "code",
   "execution_count": 10,
   "id": "be66f515",
   "metadata": {},
   "outputs": [
    {
     "name": "stdout",
     "output_type": "stream",
     "text": [
      "我滿18\n",
      "我可以考駕照\n"
     ]
    }
   ],
   "source": [
    "age = int(input(\"請輸入age:\"))\n",
    "\n",
    "if age >= 18:\n",
    "    print(\"我滿18\")\n",
    "    print(\"我可以考駕照\")\n",
    "else:\n",
    "    print(\"未到法定age\")\n",
    "    print(\"不可以考駕照\")"
   ]
  }
 ],
 "metadata": {
  "kernelspec": {
   "display_name": "base",
   "language": "python",
   "name": "python3"
  },
  "language_info": {
   "codemirror_mode": {
    "name": "ipython",
    "version": 3
   },
   "file_extension": ".py",
   "mimetype": "text/x-python",
   "name": "python",
   "nbconvert_exporter": "python",
   "pygments_lexer": "ipython3",
   "version": "3.13.2"
  }
 },
 "nbformat": 4,
 "nbformat_minor": 5
}
